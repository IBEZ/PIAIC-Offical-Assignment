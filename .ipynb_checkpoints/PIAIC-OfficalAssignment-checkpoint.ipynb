{
 "cells": [
  {
   "cell_type": "markdown",
   "metadata": {},
   "source": [
    "#  Assignment: Offical Assignment\n",
    "# Student Name: Muhammad Zohaib\n",
    "# Roll-no: AIC008890\n",
    "# Teacher: Engg. Muhammad Qasim\n",
    "# Trainer Assistant: Syed Hamza Ali\n",
    "# Campus: Sindh Boys Scout (6:45 - 9:45 Sunday)"
   ]
  },
  {
   "cell_type": "markdown",
   "metadata": {},
   "source": [
    "# 1 Calculate Area of a Circle"
   ]
  },
  {
   "cell_type": "code",
   "execution_count": 4,
   "metadata": {},
   "outputs": [
    {
     "name": "stdout",
     "output_type": "stream",
     "text": [
      "Enter a radius of circle:? 56.8\n",
      "The area of circle having a radius of 56.8 cm is 10130.3936 sq-cm\n"
     ]
    }
   ],
   "source": [
    "rad = float(input('Enter a radius of circle:? '))\n",
    "area = 3.14 * (rad ** 2)\n",
    "print(f'The area of circle having a radius of {rad} cm is {area} sq-cm')"
   ]
  },
  {
   "cell_type": "markdown",
   "metadata": {},
   "source": [
    "# 2 Check Number either positive, negative or zero"
   ]
  },
  {
   "cell_type": "code",
   "execution_count": 5,
   "metadata": {},
   "outputs": [
    {
     "name": "stdout",
     "output_type": "stream",
     "text": [
      "Enter any num: -6\n",
      "Negative Number -6.0\n"
     ]
    }
   ],
   "source": [
    "num = float(input('Enter any num: '))\n",
    "if num < 0:\n",
    "    print(\"Negative Number:\",num)\n",
    "elif num > 0:\n",
    "    print(\"Positive Number:\",num)\n",
    "else:\n",
    "    print(\"Zero Number:\",num)"
   ]
  },
  {
   "cell_type": "markdown",
   "metadata": {},
   "source": [
    "# 3 Divisibility Check of two numbers"
   ]
  },
  {
   "cell_type": "code",
   "execution_count": 10,
   "metadata": {},
   "outputs": [
    {
     "name": "stdout",
     "output_type": "stream",
     "text": [
      "Enter numerator int no: 7\n",
      "Enter denumerator int no: 2\n",
      "Number 7 is not Completely divisible by 2\n"
     ]
    }
   ],
   "source": [
    "num = int(input('Enter numerator int no: '))\n",
    "den = int(input('Enter denumerator int no: '))\n",
    "if num%den == 0:\n",
    "    print(f'Number {num} is Completely divisible by {den}')\n",
    "else:\n",
    "    print(f'Number {num} is not Completely divisible by {den}')"
   ]
  },
  {
   "cell_type": "markdown",
   "metadata": {},
   "source": [
    "# 4 Days Calculator"
   ]
  },
  {
   "cell_type": "code",
   "execution_count": 6,
   "metadata": {},
   "outputs": [
    {
     "name": "stdout",
     "output_type": "stream",
     "text": [
      "Enter a date in (dd/mm/yy) format: 12-06-2019\n",
      "Enter a date in (dd/mm/yy) format: 20-06-2018\n",
      "There are 357 days in between 12-06-2019 and 20-06-2018\n"
     ]
    }
   ],
   "source": [
    "date1 = input('Enter a date in (dd/mm/yy) format: ')\n",
    "date2 = input('Enter a date in (dd/mm/yy) format: ')\n",
    " \n",
    "days_d1 = (int(date1[6:]) * 365) + (int(date1[3:5])  * 30.42) + int(date1[:2]) \n",
    "days_d2 = (int(date2[6:]) * 365) +  (int(date2[3:5])  * 30.42) + int(date2[:2])\n",
    "\n",
    "day_all = int(max(days_d1, days_d2) - min(days_d1, days_d2))\n",
    "\n",
    "print(f'There are {day_all} days in between {date1} and {date2}')"
   ]
  },
  {
   "cell_type": "markdown",
   "metadata": {},
   "source": [
    "# 5 Calculate Volume of a sphere"
   ]
  },
  {
   "cell_type": "code",
   "execution_count": 7,
   "metadata": {},
   "outputs": [
    {
     "name": "stdout",
     "output_type": "stream",
     "text": [
      "Enter Radius of Sphere: 2\n",
      "Volume of the Sphere with Radius 2.0 is 33.49\n"
     ]
    }
   ],
   "source": [
    "rad = float(input('Enter Radius of Sphere: '))\n",
    "vol = (4/3) * 3.14 * (rad**3)\n",
    "print(f'Volume of the Sphere with Radius {rad} is {vol:.2f}')"
   ]
  },
  {
   "cell_type": "markdown",
   "metadata": {},
   "source": [
    "# 6 Copy string n times"
   ]
  },
  {
   "cell_type": "code",
   "execution_count": 8,
   "metadata": {},
   "outputs": [
    {
     "name": "stdout",
     "output_type": "stream",
     "text": [
      "Enter String: Hellow\n",
      "How many copies of String you need: 3\n",
      "3 Copies of Hellow are HellowHellowHellow\n"
     ]
    }
   ],
   "source": [
    "text = input('Enter String: ')\n",
    "times = int(input('How many copies of String you need: '))\n",
    "print(f'{times} Copies of {text} are {text * times}')"
   ]
  },
  {
   "cell_type": "markdown",
   "metadata": {},
   "source": [
    "# 7 Check if number is Even or Odd"
   ]
  },
  {
   "cell_type": "code",
   "execution_count": 9,
   "metadata": {},
   "outputs": [
    {
     "name": "stdout",
     "output_type": "stream",
     "text": [
      "Enter num: 5\n",
      "5 is odd\n"
     ]
    }
   ],
   "source": [
    "num = int(input('Enter num: '))\n",
    "if num%2 == 0:\n",
    "     print(f'{num} is even')\n",
    "else:\n",
    "    print(f'{num} is odd')"
   ]
  },
  {
   "cell_type": "markdown",
   "metadata": {},
   "source": [
    "# 8 Vowel Tester"
   ]
  },
  {
   "cell_type": "code",
   "execution_count": 10,
   "metadata": {},
   "outputs": [
    {
     "name": "stdout",
     "output_type": "stream",
     "text": [
      "Enter character: o\n",
      "o is a vowel letter\n"
     ]
    }
   ],
   "source": [
    "ch = input('Enter character: ')\n",
    "char = ch.lower()\n",
    "if char in ['a', 'e', 'i', 'o', 'u']:\n",
    "    print(f'{ch} is a vowel letter')\n",
    "    "
   ]
  },
  {
   "cell_type": "markdown",
   "metadata": {},
   "source": [
    "# 9 Triangle area"
   ]
  },
  {
   "cell_type": "code",
   "execution_count": 11,
   "metadata": {},
   "outputs": [
    {
     "name": "stdout",
     "output_type": "stream",
     "text": [
      "Enter magnitude of Triangle base:9\n",
      "Enter magnitude of Triangle height:5\n",
      "Area of a Triangle with Height 5 and Base 9 is 22\n"
     ]
    }
   ],
   "source": [
    "b = int(input('Enter magnitude of Triangle base:'))\n",
    "h = int(input('Enter magnitude of Triangle height:'))\n",
    "area = (b*h) // 2\n",
    "print(f'Area of a Triangle with Height {h} and Base {b} is {area}')"
   ]
  },
  {
   "cell_type": "markdown",
   "metadata": {},
   "source": [
    "# 10 Calculate Interest"
   ]
  },
  {
   "cell_type": "code",
   "execution_count": 12,
   "metadata": {},
   "outputs": [
    {
     "name": "stdout",
     "output_type": "stream",
     "text": [
      "Please enter principal amount: 5\n",
      "Please Enter Rate of interest in %: 3\n",
      "Enter number of years for investment: 1800\n",
      "After 1800.0 years your principal amount 5.0 over an interest rate of 3.0 % will be 27005.0\n"
     ]
    }
   ],
   "source": [
    "amount = float(input('Please enter principal amount: '))\n",
    "rate = float(input('Please Enter Rate of interest in %: '))\n",
    "years = float(input('Enter number of years for investment: '))\n",
    "total = amount * (1 + (rate*years))\n",
    "print(f'After {years} years your principal amount {amount} over an interest rate of {rate} % will be {total}')"
   ]
  },
  {
   "cell_type": "markdown",
   "metadata": {},
   "source": [
    "# 11 Euclidean distance"
   ]
  },
  {
   "cell_type": "code",
   "execution_count": 15,
   "metadata": {},
   "outputs": [
    {
     "name": "stdout",
     "output_type": "stream",
     "text": [
      "Enter Co-ordinate for x1: 2\n",
      "Enter Co-ordinate for x2: 3\n",
      "Enter Co-ordinate for y1: 3\n",
      "Enter Co-ordinate for y2: 3\n",
      "Distance between points (2.0, 3.0) and (3.0, 3.0) is 1.4142135623730951\n"
     ]
    }
   ],
   "source": [
    "import math\n",
    "x1 = float(input('Enter Co-ordinate for x1: '))\n",
    "x2 = float(input('Enter Co-ordinate for x2: '))\n",
    "y1 = float(input('Enter Co-ordinate for y1: '))\n",
    "y2 = float(input('Enter Co-ordinate for y2: '))\n",
    "x = (x2 - x1) * 2\n",
    "y = (y2 - y1) * 2\n",
    "dist = math.sqrt(x+y)\n",
    "\n",
    "print(f'Distance between points {(x1, y1)} and {(x2, y2)} is {dist}')"
   ]
  },
  {
   "cell_type": "markdown",
   "metadata": {},
   "source": [
    "# 12 Feet to Centimeter Converter"
   ]
  },
  {
   "cell_type": "code",
   "execution_count": 16,
   "metadata": {},
   "outputs": [
    {
     "name": "stdout",
     "output_type": "stream",
     "text": [
      "Enter Height in Feet: 6.2\n",
      "There are 188.976 cm in 6.2 ft\n"
     ]
    }
   ],
   "source": [
    "feet = float(input('Enter Height in Feet: '))\n",
    "print(f'There are {feet * 30.48} cm in {feet} ft')"
   ]
  },
  {
   "cell_type": "markdown",
   "metadata": {},
   "source": [
    "# 13 BMI Calculator"
   ]
  },
  {
   "cell_type": "code",
   "execution_count": 17,
   "metadata": {},
   "outputs": [
    {
     "name": "stdout",
     "output_type": "stream",
     "text": [
      "Enter Height in cm:198\n",
      "Enter Weight in kg:62\n",
      "Your BMI is 15.81\n"
     ]
    }
   ],
   "source": [
    "h = float(input('Enter Height in cm:'))\n",
    "w = float(input('Enter Weight in kg:'))\n",
    "bmi = w / ((h / 100) ** 2)\n",
    "print(f'Your BMI is {bmi:.2f}')"
   ]
  },
  {
   "cell_type": "markdown",
   "metadata": {},
   "source": [
    "# 14 Sum of n Positive Integers"
   ]
  },
  {
   "cell_type": "code",
   "execution_count": 18,
   "metadata": {},
   "outputs": [
    {
     "name": "stdout",
     "output_type": "stream",
     "text": [
      "Enter value of n: 5\n",
      "Sum of n Positive integers till 5 is 15\n"
     ]
    }
   ],
   "source": [
    "num = int(input('Enter value of n: '))\n",
    "print(f'Sum of n Positive integers till {num} is {sum(range(num+1))}')\n",
    "    "
   ]
  },
  {
   "cell_type": "markdown",
   "metadata": {},
   "source": [
    "# 15 Digits Sum of a Number"
   ]
  },
  {
   "cell_type": "code",
   "execution_count": 23,
   "metadata": {},
   "outputs": [
    {
     "name": "stdout",
     "output_type": "stream",
     "text": [
      "Enter value of n: 6\n",
      "Sum of n Positive integers till 6 is 21\n"
     ]
    }
   ],
   "source": [
    "number = int(input(\"Enter value of n: \"))\n",
    "sum_num = (number * (number + 1)) / 2\n",
    "print(\"Sum of n Positive integers till\",number,\"is\",int(sum_num))"
   ]
  },
  {
   "cell_type": "markdown",
   "metadata": {},
   "source": [
    "# 16 Decimal to Binary Converter"
   ]
  },
  {
   "cell_type": "code",
   "execution_count": 24,
   "metadata": {},
   "outputs": [
    {
     "name": "stdout",
     "output_type": "stream",
     "text": [
      "Enter a decimal number: 5\n",
      "Binary Reperesentation of 5 is 101\n"
     ]
    }
   ],
   "source": [
    "dec = int(input(\"Enter a decimal number: \"))\n",
    "num = bin(dec)\n",
    "print(\"Binary Reperesentation of\",dec,\"is\",num[2:])"
   ]
  },
  {
   "cell_type": "markdown",
   "metadata": {},
   "source": [
    "# 17 Binary to Decimal Converter"
   ]
  },
  {
   "cell_type": "code",
   "execution_count": 27,
   "metadata": {},
   "outputs": [
    {
     "name": "stdout",
     "output_type": "stream",
     "text": [
      "Enter a binary number: 5\n",
      "5\n"
     ]
    }
   ],
   "source": [
    "bn = int(input('Enter a binary number: '))\n",
    "dec = 0\n",
    "i = 0\n",
    "while bn:\n",
    "    dec += (bn % 10) * (2 ** i)\n",
    "    bn = bn // 10\n",
    "    i +=1\n",
    "print(dec)"
   ]
  },
  {
   "cell_type": "markdown",
   "metadata": {},
   "source": [
    "# 18 Vowel and Consonants Counter"
   ]
  },
  {
   "cell_type": "code",
   "execution_count": 29,
   "metadata": {},
   "outputs": [
    {
     "name": "stdout",
     "output_type": "stream",
     "text": [
      "Enter text: are you there?\n",
      "Vowels : 6\n",
      "Consonants : 8\n"
     ]
    }
   ],
   "source": [
    "text = input('Enter text: ').lower()\n",
    "v = 0\n",
    "c = 0\n",
    "for i in range(len(text)):\n",
    "    if text[i] in ['a', 'e', 'i', 'o', 'u']:\n",
    "        v +=1\n",
    "    else:\n",
    "        c +=1\n",
    "print(\"Vowels :\" ,v)\n",
    "print(\"Consonants :\",c)"
   ]
  },
  {
   "cell_type": "markdown",
   "metadata": {},
   "source": [
    "# 19 Palindrome tester"
   ]
  },
  {
   "cell_type": "code",
   "execution_count": 31,
   "metadata": {},
   "outputs": [
    {
     "name": "stdout",
     "output_type": "stream",
     "text": [
      "Enter text: KHL\n",
      "Text is not Palidrome KHL\n"
     ]
    }
   ],
   "source": [
    "text = input('Enter text: ')\n",
    "if text == text[::-1]:\n",
    "    print(\"Text is Palidrome\",text)\n",
    "else: \n",
    "    print(\"Text is not Palidrome\",text)\n",
    "    "
   ]
  },
  {
   "cell_type": "markdown",
   "metadata": {},
   "source": [
    "# 20 Count Alphabets, Numbers and Special Characters"
   ]
  },
  {
   "cell_type": "code",
   "execution_count": 34,
   "metadata": {},
   "outputs": [
    {
     "name": "stdout",
     "output_type": "stream",
     "text": [
      "Enter text: Java 6.2\n",
      "Numbers = 2\n",
      "Alphabets = 4\n",
      "Special Characters = 1\n",
      "Spaces = 1\n"
     ]
    }
   ],
   "source": [
    "text = input(\"Enter text: \")\n",
    "a = 0\n",
    "b = 0\n",
    "c = 0\n",
    "d = 0\n",
    "for x in text:\n",
    "    if int(ord(x)) >= 65 and int(ord(x)) <= 122:\n",
    "        a += 1\n",
    "    elif int(ord(x)) >= 48 and int(ord(x)) <= 57:\n",
    "        b += 1\n",
    "    elif x == \" \":\n",
    "        d += 1\n",
    "    else:\n",
    "        c += 1\n",
    "print(\"Numbers =\",b)\n",
    "print(\"Alphabets =\",a)\n",
    "print(\"Special Characters =\",c)\n",
    "print(\"Spaces =\",d)"
   ]
  },
  {
   "cell_type": "markdown",
   "metadata": {},
   "source": [
    "# 21 Write a Python program to construct the following pattern"
   ]
  },
  {
   "cell_type": "code",
   "execution_count": 35,
   "metadata": {},
   "outputs": [
    {
     "name": "stdout",
     "output_type": "stream",
     "text": [
      "\n",
      "*\n",
      "**\n",
      "***\n",
      "****\n",
      "*****\n",
      "****\n",
      "***\n",
      "**\n",
      "*\n"
     ]
    }
   ],
   "source": [
    "for r in range(6):\n",
    "    for c in range(r):\n",
    "        print('*', end='')\n",
    "    print()\n",
    "    \n",
    "for r in range(4):\n",
    "    for c in range(r, 4):\n",
    "        print('*', end='')\n",
    "    print()"
   ]
  },
  {
   "cell_type": "markdown",
   "metadata": {},
   "source": [
    "# 22 Write a Python program to construct the following pattern"
   ]
  },
  {
   "cell_type": "code",
   "execution_count": 55,
   "metadata": {
    "scrolled": true
   },
   "outputs": [
    {
     "name": "stdout",
     "output_type": "stream",
     "text": [
      "\n",
      "1 \n",
      "1 2 \n",
      "1 2 3 \n",
      "1 2 3 4 \n",
      "1 2 3 4 5 \n",
      "1 2 3 4 \n",
      "1 2 3 \n",
      "1 2 \n",
      "1 \n"
     ]
    }
   ],
   "source": [
    "e = 5\n",
    "for r in range(6):\n",
    "    for c in range(r):\n",
    "        print(c+1, end=' ')\n",
    "    print()\n",
    "    \n",
    "for r in range(1, 5):\n",
    "    for c in range(1, e):\n",
    "        print(c, end=' ')\n",
    "    e -= 1\n",
    "    print()"
   ]
  },
  {
   "cell_type": "markdown",
   "metadata": {},
   "source": [
    "# 23 Write a Python program to construct the following pattern"
   ]
  },
  {
   "cell_type": "code",
   "execution_count": 37,
   "metadata": {},
   "outputs": [
    {
     "name": "stdout",
     "output_type": "stream",
     "text": [
      "1 \n",
      "2 2 \n",
      "3 3 3 \n",
      "4 4 4 4 \n",
      "5 5 5 5 5 \n",
      "6 6 6 6 6 6 \n",
      "7 7 7 7 7 7 7 \n",
      "8 8 8 8 8 8 8 8 \n",
      "9 9 9 9 9 9 9 9 9 \n"
     ]
    }
   ],
   "source": [
    "for r in range(1,10):\n",
    "    for c in range(r):\n",
    "        print(r, end=' ')\n",
    "    print()"
   ]
  }
 ],
 "metadata": {
  "kernelspec": {
   "display_name": "Python 3",
   "language": "python",
   "name": "python3"
  },
  "language_info": {
   "codemirror_mode": {
    "name": "ipython",
    "version": 3
   },
   "file_extension": ".py",
   "mimetype": "text/x-python",
   "name": "python",
   "nbconvert_exporter": "python",
   "pygments_lexer": "ipython3",
   "version": "3.7.3"
  }
 },
 "nbformat": 4,
 "nbformat_minor": 2
}
